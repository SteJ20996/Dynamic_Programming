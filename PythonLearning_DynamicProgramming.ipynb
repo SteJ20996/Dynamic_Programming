{
 "cells": [
  {
   "cell_type": "code",
   "execution_count": 385,
   "id": "6cdd9209",
   "metadata": {},
   "outputs": [],
   "source": [
    "import time\n",
    "import matplotlib.pyplot as plt\n",
    "import numpy as np"
   ]
  },
  {
   "cell_type": "markdown",
   "id": "ebd21dc5",
   "metadata": {},
   "source": [
    "## Fibonacci Sequence"
   ]
  },
  {
   "cell_type": "markdown",
   "id": "110b666e",
   "metadata": {},
   "source": [
    "##### 1,1,2,3,5,8,13,21,34,55,..."
   ]
  },
  {
   "cell_type": "code",
   "execution_count": 375,
   "id": "3af09c37",
   "metadata": {},
   "outputs": [
    {
     "data": {
      "text/plain": [
       "2"
      ]
     },
     "execution_count": 375,
     "metadata": {},
     "output_type": "execute_result"
    }
   ],
   "source": [
    "# Attempt 1 (Normal)\n",
    "def fib1(n):\n",
    "    if n <= 0:\n",
    "        return \"Sequence starts at n=1, error!\"\n",
    "    elif n <= 2:\n",
    "        res = 1\n",
    "    else:\n",
    "        res = fib1(n-2) + fib1(n-1)\n",
    "    return res\n",
    "\n",
    "fib1(3)"
   ]
  },
  {
   "cell_type": "code",
   "execution_count": 376,
   "id": "673a7a24",
   "metadata": {},
   "outputs": [],
   "source": [
    "tm_n = [] # put timer\n",
    "idx = [i for i in range(3,36)]\n",
    "for i in range(3,36):\n",
    "    st_n1 = time.time()\n",
    "    fib1(i)\n",
    "    ed_n1 = time.time()\n",
    "    t = ed_n1 - st_n1\n",
    "    tm_n.append(t)"
   ]
  },
  {
   "cell_type": "code",
   "execution_count": 377,
   "id": "54f365f7",
   "metadata": {},
   "outputs": [
    {
     "data": {
      "text/plain": [
       "354224848179261915075"
      ]
     },
     "execution_count": 377,
     "metadata": {},
     "output_type": "execute_result"
    }
   ],
   "source": [
    "# Attempt 2 (Memoized O(n)time, O(n)space)\n",
    "def fib_m(n,memo):\n",
    "    if memo[n] is not None:\n",
    "        return memo[n]\n",
    "    if n <= 0:\n",
    "        return \"Sequence starts at n=1, error!\"\n",
    "    elif n <= 2:\n",
    "        res = 1\n",
    "    else:\n",
    "        res = fib_m(n-2,memo) + fib_m(n-1,memo)\n",
    "    memo[n] = res\n",
    "    return res\n",
    "\n",
    "def fib2(n):\n",
    "    memo = [None] * (n+1)\n",
    "    return fib_m(n,memo)\n",
    "\n",
    "fib2(100)"
   ]
  },
  {
   "cell_type": "code",
   "execution_count": 378,
   "id": "5c9447a8",
   "metadata": {},
   "outputs": [],
   "source": [
    "tm_m = []\n",
    "for i in range(3,36):\n",
    "    st_m1 = time.time()\n",
    "    fib2(i)\n",
    "    ed_m1 = time.time()\n",
    "    tm_m.append(ed_m1 - st_m1)\n",
    "\n",
    "idxu = [i for i in range(3,5001)]\n",
    "tmmu = [] # momeized ultra\n",
    "for i in range(3,5001):\n",
    "    st_mu1 = time.time()\n",
    "    fib2(i)\n",
    "    ed_mu1 = time.time()\n",
    "    tmmu.append(ed_mu1 - st_mu1)"
   ]
  },
  {
   "cell_type": "code",
   "execution_count": 379,
   "id": "7052bae6",
   "metadata": {},
   "outputs": [
    {
     "data": {
      "text/plain": [
       "354224848179261915075"
      ]
     },
     "execution_count": 379,
     "metadata": {},
     "output_type": "execute_result"
    }
   ],
   "source": [
    "# Attempt 3 (Bottom-Up)\n",
    "def fib3(n):\n",
    "    if n <= 2:\n",
    "        res = 1\n",
    "    btp = [None] * (n+1)\n",
    "    btp[1] = 1\n",
    "    btp[2] = 1\n",
    "    for i in range(3,n+1):\n",
    "        btp[i] = btp[i-2] + btp[i-1]\n",
    "    return btp[n]\n",
    "\n",
    "fib3(100)"
   ]
  },
  {
   "cell_type": "code",
   "execution_count": 380,
   "id": "ae133806",
   "metadata": {},
   "outputs": [],
   "source": [
    "tm_b = []\n",
    "for i in range(3,36):\n",
    "    st_b1 = time.time()\n",
    "    fib3(i)\n",
    "    ed_b1 = time.time()\n",
    "    tm_b.append(ed_b1 - st_b1)\n",
    "\n",
    "tmbu = [] # bottom-up ultra\n",
    "for i in range(3,5001):\n",
    "    st_bu1 = time.time()\n",
    "    fib3(i)\n",
    "    ed_bu1 = time.time()\n",
    "    tmbu.append(ed_bu1 - st_bu1)"
   ]
  },
  {
   "cell_type": "code",
   "execution_count": 381,
   "id": "907359f8",
   "metadata": {},
   "outputs": [
    {
     "data": {
      "text/plain": [
       "12586269025"
      ]
     },
     "execution_count": 381,
     "metadata": {},
     "output_type": "execute_result"
    }
   ],
   "source": [
    "# Attempt 4 (tabulation)\n",
    "def fib_t(n):\n",
    "    l = [0]*(n+2)\n",
    "    l[1] = 1\n",
    "    for i in range(n):\n",
    "        l[i+1] += l[i]\n",
    "        l[i+2] += l[i]\n",
    "    return l[n]\n",
    "\n",
    "fib_t(50)"
   ]
  },
  {
   "cell_type": "code",
   "execution_count": 382,
   "id": "23948fe4",
   "metadata": {},
   "outputs": [],
   "source": [
    "tm_t = []\n",
    "for i in range(3,36):\n",
    "    st_t = time.time()\n",
    "    fib_t(i)\n",
    "    ed_t = time.time()\n",
    "    tm_t.append(ed_t - st_t)\n",
    "\n",
    "tmt = [] # bottom-up ultra\n",
    "for i in range(3,5001):\n",
    "    st_t = time.time()\n",
    "    fib_t(i)\n",
    "    ed_t = time.time()\n",
    "    tmt.append(ed_t - st_t)"
   ]
  },
  {
   "cell_type": "code",
   "execution_count": 383,
   "id": "c508a6bb",
   "metadata": {},
   "outputs": [
    {
     "data": {
      "text/plain": [
       "<matplotlib.legend.Legend at 0x7fe72a356730>"
      ]
     },
     "execution_count": 383,
     "metadata": {},
     "output_type": "execute_result"
    },
    {
     "data": {
      "image/png": "[encoded data removed]",
      "text/plain": [
       "<Figure size 432x288 with 1 Axes>"
      ]
     },
     "metadata": {
      "needs_background": "light"
     },
     "output_type": "display_data"
    }
   ],
   "source": [
    "# Total four attempts plot\n",
    "plt.plot(idx, tm_n, label = 'normal attempt', color = '#0000FF')\n",
    "plt.plot(idx, tm_m, label = 'memoized attempt', color = '#FFA500')\n",
    "plt.plot(idx, tm_b, label = 'bottom-up attempt', color = '#008000')\n",
    "plt.plot(idx, tm_t, label = 'tabulation attempt', color = '#EE82EE')\n",
    "plt.title('runtime')\n",
    "plt.xlabel('i from 3 to 35')\n",
    "plt.ylabel('runtime(in seconds)')\n",
    "plt.legend(loc = 'upper left')"
   ]
  },
  {
   "cell_type": "code",
   "execution_count": 384,
   "id": "72df2085",
   "metadata": {},
   "outputs": [
    {
     "data": {
      "text/plain": [
       "<matplotlib.legend.Legend at 0x7fe759fc0130>"
      ]
     },
     "execution_count": 384,
     "metadata": {},
     "output_type": "execute_result"
    },
    {
     "data": {
      "image/png": "[encoded data removed]",
      "text/plain": [
       "<Figure size 432x288 with 1 Axes>"
      ]
     },
     "metadata": {
      "needs_background": "light"
     },
     "output_type": "display_data"
    }
   ],
   "source": [
    "# only memoized, bottom-up and tabulation\n",
    "plt.plot(idxu, tmmu, label = 'memoized attempt', color = '#FFA500')\n",
    "plt.plot(idxu, tmbu, label = 'bottom-up attempt',color = '#008000')\n",
    "plt.plot(idxu, tmt, label = 'tabulation attempt', color = '#EE82EE')\n",
    "plt.title('runtime')\n",
    "plt.xlabel('i from 3 to 5000')\n",
    "plt.ylabel('runtime(in seconds)')\n",
    "plt.legend(loc = 'upper left')"
   ]
  },
  {
   "cell_type": "markdown",
   "id": "f5ac3532",
   "metadata": {},
   "source": [
    "## Grid Traveler"
   ]
  },
  {
   "cell_type": "markdown",
   "id": "7da48b2e",
   "metadata": {},
   "source": [
    "##### Given an m*n matrix, how many ways from up-left to down-right (corner to opposite corner)."
   ]
  },
  {
   "cell_type": "code",
   "execution_count": 194,
   "id": "96588cc8",
   "metadata": {},
   "outputs": [
    {
     "data": {
      "text/plain": [
       "10"
      ]
     },
     "execution_count": 194,
     "metadata": {},
     "output_type": "execute_result"
    }
   ],
   "source": [
    "# Attempt 1 (Normal, O(2^(m+n))time, O(m+n)space)\n",
    "def gt_n(m,n):\n",
    "    if m == 1 and n == 1:\n",
    "        return 1\n",
    "    if m == 0 or n == 0:\n",
    "        return 0\n",
    "    return gt_n(m-1,n) + gt_n(m,n-1);\n",
    "\n",
    "gt_n(4,3)"
   ]
  },
  {
   "cell_type": "code",
   "execution_count": 190,
   "id": "81378d67",
   "metadata": {},
   "outputs": [],
   "source": [
    "tm_gtn = [] # put timer\n",
    "idx_gt = [i for i in range(2,13)]\n",
    "for i in range(2,13):\n",
    "    st_gtn = time.time()\n",
    "    gt_n(i,i)\n",
    "    ed_gtn = time.time()\n",
    "    t = ed_gtn - st_gtn\n",
    "    tm_gtn.append(t)"
   ]
  },
  {
   "cell_type": "code",
   "execution_count": 391,
   "id": "e4b55c66",
   "metadata": {},
   "outputs": [
    {
     "data": {
      "text/plain": [
       "2333606220"
      ]
     },
     "execution_count": 391,
     "metadata": {},
     "output_type": "execute_result"
    }
   ],
   "source": [
    "# Attempt 2 (memoized, O(mn)time, O(m+n)space)\n",
    "def gt_m(m,n,memo_gt={}):\n",
    "    key = str(m) + ',' + str(n)\n",
    "    if key in memo_gt:\n",
    "        return memo_gt[key]\n",
    "    if m == 1 and n == 1:\n",
    "        return 1\n",
    "    if m == 0 or n == 0:\n",
    "        return 0\n",
    "    memo_gt[key] = gt_m(m-1,n,memo_gt) + gt_m(m,n-1,memo_gt)\n",
    "    return memo_gt[key]\n",
    "\n",
    "gt_m(18,18)"
   ]
  },
  {
   "cell_type": "code",
   "execution_count": 396,
   "id": "5569b20b",
   "metadata": {},
   "outputs": [],
   "source": [
    "tm_gtm = []\n",
    "for i in range(2,13):\n",
    "    st_gtm = time.time()\n",
    "    gt_m(i,i)\n",
    "    ed_gtm = time.time()\n",
    "    t = ed_gtm - st_gtm\n",
    "    tm_gtm.append(t)\n",
    "    \n",
    "tm_gtm2 = []\n",
    "idx_gt2 = [i for i in range(2,31)]\n",
    "for i in range(2,31):\n",
    "    st = time.time()\n",
    "    gt_m(i,i)\n",
    "    ed = time.time()\n",
    "    t = ed - st\n",
    "    tm_gtm2.append(t)"
   ]
  },
  {
   "cell_type": "code",
   "execution_count": 393,
   "id": "3ea8d619",
   "metadata": {},
   "outputs": [
    {
     "data": {
      "text/plain": [
       "2333606220"
      ]
     },
     "execution_count": 393,
     "metadata": {},
     "output_type": "execute_result"
    }
   ],
   "source": [
    "# Attempt 3 (tabulation)\n",
    "def gt_t(m,n):\n",
    "    table = np.zeros((m+1,n+1))\n",
    "    table[1][1] = 1\n",
    "    for i in range(m+1):\n",
    "        for j in range(n+1):\n",
    "            if j+1 <= n:\n",
    "                table[i][j+1] += table[i][j]\n",
    "            if i+1 <= m:\n",
    "                table[i+1][j] += table[i][j]\n",
    "    return int(table[m][n])\n",
    "\n",
    "gt_t(18,18)"
   ]
  },
  {
   "cell_type": "code",
   "execution_count": 394,
   "id": "ee6f0a38",
   "metadata": {},
   "outputs": [],
   "source": [
    "tm_gtt = []\n",
    "for i in range(2,13):\n",
    "    st = time.time()\n",
    "    gt_t(i,i)\n",
    "    ed = time.time()\n",
    "    t = ed - st\n",
    "    tm_gtt.append(t)\n",
    "    \n",
    "tm_gtt2 = []\n",
    "for i in range(2,31):\n",
    "    st = time.time()\n",
    "    gt_t(i,i)\n",
    "    ed = time.time()\n",
    "    t = ed - st\n",
    "    tm_gtt2.append(t)"
   ]
  },
  {
   "cell_type": "code",
   "execution_count": 395,
   "id": "af581327",
   "metadata": {},
   "outputs": [
    {
     "data": {
      "text/plain": [
       "<matplotlib.legend.Legend at 0x7fe7688ad040>"
      ]
     },
     "execution_count": 395,
     "metadata": {},
     "output_type": "execute_result"
    },
    {
     "data": {
      "image/png": "[encoded data removed]",
      "text/plain": [
       "<Figure size 432x288 with 1 Axes>"
      ]
     },
     "metadata": {
      "needs_background": "light"
     },
     "output_type": "display_data"
    }
   ],
   "source": [
    "# Total three attemps plot\n",
    "plt.plot(idx_gt, tm_gtn, label = 'normal attempt', color = '#0000FF')\n",
    "plt.plot(idx_gt, tm_gtm, label = 'memoized attempt', color = '#FFA500')\n",
    "plt.plot(idx_gt, tm_gtt, label = 'tabulant attempt', color = '#008000')\n",
    "plt.title('runtime')\n",
    "plt.xlabel('i from 2 to 12')\n",
    "plt.ylabel('runtime(in seconds)')\n",
    "plt.legend(loc = 'upper left')"
   ]
  },
  {
   "cell_type": "code",
   "execution_count": 397,
   "id": "1e601f67",
   "metadata": {},
   "outputs": [
    {
     "data": {
      "text/plain": [
       "<matplotlib.legend.Legend at 0x7fe759ed4550>"
      ]
     },
     "execution_count": 397,
     "metadata": {},
     "output_type": "execute_result"
    },
    {
     "data": {
      "image/png": "[encoded data removed]",
      "text/plain": [
       "<Figure size 432x288 with 1 Axes>"
      ]
     },
     "metadata": {
      "needs_background": "light"
     },
     "output_type": "display_data"
    }
   ],
   "source": [
    "# only memoized and tabulant\n",
    "plt.plot(idx_gt2, tm_gtm2, label = 'memoized attempt', color = '#FFA500')\n",
    "plt.plot(idx_gt2, tm_gtt2, label = 'tabulant attempt', color = '#008000')\n",
    "plt.title('runtime')\n",
    "plt.xlabel('i from 2 to 30')\n",
    "plt.ylabel('runtime(in seconds)')\n",
    "plt.legend(loc = 'upper left')"
   ]
  },
  {
   "cell_type": "markdown",
   "id": "182d337e",
   "metadata": {},
   "source": [
    "## CanSum Problem"
   ]
  },
  {
   "cell_type": "markdown",
   "id": "c6129491",
   "metadata": {},
   "source": [
    "##### Given a list, find whether it is possible to find sublist which sum is target sum."
   ]
  },
  {
   "cell_type": "code",
   "execution_count": 233,
   "id": "6254b589",
   "metadata": {},
   "outputs": [
    {
     "data": {
      "text/plain": [
       "False"
      ]
     },
     "execution_count": 233,
     "metadata": {},
     "output_type": "execute_result"
    }
   ],
   "source": [
    "# Memoized O(mn)time, O(m)space\n",
    "def canSum(targetSum,numbers,memo_cs={}):\n",
    "    if targetSum in memo_cs:\n",
    "        return memo_cs[targetSum]\n",
    "    if targetSum == 0:\n",
    "        return True\n",
    "    if targetSum < 0:\n",
    "        return False\n",
    "    for n in numbers:\n",
    "        remainder = targetSum - n\n",
    "        if canSum(remainder,numbers,memo_cs) == True:\n",
    "            memo_cs[remainder] = True\n",
    "            return True\n",
    "    memo_cs[remainder] = False\n",
    "    return False\n",
    "\n",
    "canSum(300,[7,14])"
   ]
  },
  {
   "cell_type": "markdown",
   "id": "7b01d31c",
   "metadata": {},
   "source": [
    "## HowSum Problem"
   ]
  },
  {
   "cell_type": "markdown",
   "id": "d8a54648",
   "metadata": {},
   "source": [
    "##### Given a list, return sublist whose sum is target sum."
   ]
  },
  {
   "cell_type": "code",
   "execution_count": 234,
   "id": "98dd763d",
   "metadata": {},
   "outputs": [
    {
     "data": {
      "text/plain": [
       "[3, 2, 2]"
      ]
     },
     "execution_count": 234,
     "metadata": {},
     "output_type": "execute_result"
    }
   ],
   "source": [
    "# Memoized O(n*m^2)time, O(m^2)space\n",
    "def howSum(targetSum,numbers,memo_hs={}):\n",
    "    if targetSum in memo_hs:\n",
    "        return memo_hs[targetSum]\n",
    "    if targetSum == 0:\n",
    "        return []\n",
    "    if targetSum < 0:\n",
    "        return \"None\"\n",
    "    for num in numbers:\n",
    "        remainder = targetSum - num\n",
    "        remainderResult = howSum(remainder,numbers,memo_hs)\n",
    "        if remainderResult != \"None\":\n",
    "            memo_hs[targetSum] = [*remainderResult,num]\n",
    "            return memo_hs[targetSum]\n",
    "    memo_hs[targetSum] = \"None\"\n",
    "    return \"None\"\n",
    "\n",
    "howSum(7,[2,3,4])"
   ]
  },
  {
   "cell_type": "markdown",
   "id": "d5e5361b",
   "metadata": {},
   "source": [
    "## BestSum Problem"
   ]
  },
  {
   "cell_type": "markdown",
   "id": "1c5e6070",
   "metadata": {},
   "source": [
    "##### Given a list, return the shortest sublist whose sum is target sum."
   ]
  },
  {
   "cell_type": "code",
   "execution_count": 240,
   "id": "56cc8613",
   "metadata": {},
   "outputs": [
    {
     "data": {
      "text/plain": [
       "[25, 25, 25, 25]"
      ]
     },
     "execution_count": 240,
     "metadata": {},
     "output_type": "execute_result"
    }
   ],
   "source": [
    "# Memoized O(n*m^2)time, O(m^2)space\n",
    "def bestSum(targetSum,numbers,memo_bs={}):\n",
    "    if targetSum in memo_bs:\n",
    "        return memo_bs[targetSum]\n",
    "    if targetSum == 0:\n",
    "        return []\n",
    "    if targetSum < 0:\n",
    "        return 'None'\n",
    "    scb = 'None' # shortest conbination\n",
    "    for num in numbers:\n",
    "        remainder = targetSum - num\n",
    "        remainderComb = bestSum(remainder,numbers,memo_bs)\n",
    "        if remainderComb != 'None':\n",
    "            conbination = [*remainderComb,num]\n",
    "            if scb == 'None' or len(scb) > len(conbination):\n",
    "                scb = conbination\n",
    "    memo_bs[targetSum] = scb\n",
    "    return scb\n",
    "\n",
    "bestSum(100,[2,3,4,25])"
   ]
  },
  {
   "cell_type": "markdown",
   "id": "19c1ae84",
   "metadata": {},
   "source": [
    "## CanConstruct Problem"
   ]
  },
  {
   "cell_type": "markdown",
   "id": "82f43ff0",
   "metadata": {},
   "source": [
    "##### Given a list, determine whether sublist in wordBank can constuct the target."
   ]
  },
  {
   "cell_type": "code",
   "execution_count": 284,
   "id": "3276909a",
   "metadata": {},
   "outputs": [
    {
     "data": {
      "text/plain": [
       "True"
      ]
     },
     "execution_count": 284,
     "metadata": {},
     "output_type": "execute_result"
    }
   ],
   "source": [
    "# memoized O(n*m^2)time, O(m^2)space\n",
    "def canConstruct(target,wordBank,memo_cc={}):\n",
    "    if target in memo_cc:\n",
    "        return memo_cc[target]\n",
    "    if len(target) == 0:\n",
    "        return True\n",
    "    for word in wordBank:\n",
    "        if word in target and target.index(word) == 0:\n",
    "            suffix = target[slice(len(word),len(target))]\n",
    "            if  canConstruct(suffix,wordBank,memo_cc) == True:\n",
    "                memo_cc[target] = True\n",
    "                return True\n",
    "    memo_cc[target] = False\n",
    "    return False\n",
    "\n",
    "canConstruct('abssdef',['a','ab','abc','def','s'])"
   ]
  },
  {
   "cell_type": "markdown",
   "id": "57b7ee7f",
   "metadata": {},
   "source": [
    "## CountConstruct Problem"
   ]
  },
  {
   "cell_type": "markdown",
   "id": "7b76fad4",
   "metadata": {},
   "source": [
    "##### Given a list, determine how many ways to construct the target."
   ]
  },
  {
   "cell_type": "code",
   "execution_count": 294,
   "id": "bea0c50d",
   "metadata": {},
   "outputs": [
    {
     "data": {
      "text/plain": [
       "1"
      ]
     },
     "execution_count": 294,
     "metadata": {},
     "output_type": "execute_result"
    }
   ],
   "source": [
    "# memoized O(n*m^2)time, O(m^2)space\n",
    "def countConstruct(target,wordBank,memo_ctc={}):\n",
    "    if target in memo_ctc:\n",
    "        return memo_ctc[target]\n",
    "    if len(target) == 0:\n",
    "        return 1\n",
    "    t_cnt = 0\n",
    "    for word in wordBank:\n",
    "        if word in target and target.index(word) == 0:\n",
    "            suffix = target[slice(len(word),len(target))]\n",
    "            cnt = canConstruct(suffix,wordBank,memo_ctc)\n",
    "            t_cnt += cnt\n",
    "    memo_ctc[target] = t_cnt\n",
    "    return t_cnt\n",
    "\n",
    "countConstruct('abcdef',['ab','abc','cd','def','abcd'])"
   ]
  },
  {
   "cell_type": "markdown",
   "id": "91ff8551",
   "metadata": {},
   "source": [
    "## AllConstruct Problem"
   ]
  },
  {
   "cell_type": "markdown",
   "id": "6aa21e85",
   "metadata": {},
   "source": [
    "##### Given a list, print out all ways to construct the target. "
   ]
  },
  {
   "cell_type": "markdown",
   "id": "0002cfe2",
   "metadata": {},
   "source": [
    "Important! Wrong attempt!"
   ]
  },
  {
   "cell_type": "code",
   "execution_count": 361,
   "id": "0bced184",
   "metadata": {},
   "outputs": [
    {
     "data": {
      "text/plain": [
       "[['purp', ['le', []]], ['p', ['ur', ['p', ['le', []]]]], ['purpl']]"
      ]
     },
     "execution_count": 361,
     "metadata": {},
     "output_type": "execute_result"
    }
   ],
   "source": [
    "# memoized O(n^m)time, O(m)space\n",
    "def allConstruct(target,wordBank,memo_ac={}):\n",
    "    if target in memo_ac:\n",
    "        return memo_ac[target]\n",
    "    if len(target) == 0:\n",
    "        return [[]]\n",
    "    res = []\n",
    "    for word in wordBank:\n",
    "        if word in target and target.index(word) == 0:\n",
    "            suffix = target[len(word):]\n",
    "            suffixWays = allConstruct(suffix,wordBank,memo_ac)\n",
    "            targetWays = [word] + suffixWays\n",
    "            res.append(targetWays)\n",
    "    memo_ac[target] = res\n",
    "    return res\n",
    "\n",
    "allConstruct('purple',['purp','p','ur','le','purpl'])"
   ]
  },
  {
   "cell_type": "markdown",
   "id": "39af60b7",
   "metadata": {},
   "source": [
    "Correct attempt!"
   ]
  },
  {
   "cell_type": "code",
   "execution_count": 3,
   "id": "4eb1bca9",
   "metadata": {},
   "outputs": [
    {
     "name": "stdout",
     "output_type": "stream",
     "text": [
      "[['purp', 'le'], ['p', 'ur', 'p', 'le']]\n",
      "There are 2 ways to construct the target.\n"
     ]
    }
   ],
   "source": [
    "def allConstruct(target, wordBank, memo_ac=None):\n",
    "    if memo_ac is None:\n",
    "        memo_ac = {}\n",
    "    if target in memo_ac:\n",
    "        return memo_ac[target]\n",
    "    if len(target) == 0:\n",
    "        return [[]]\n",
    "    res = []\n",
    "    for word in wordBank:\n",
    "        if word in target and target.index(word) == 0:\n",
    "            suffix = target[len(word):]\n",
    "            suffixWays = allConstruct(suffix, wordBank, memo_ac)\n",
    "            for way in suffixWays:\n",
    "                targetWays = [word] + way\n",
    "                res.append(targetWays)\n",
    "    memo_ac[target] = res\n",
    "    return res\n",
    "\n",
    "ways = allConstruct('purple', ['purp', 'p', 'ur', 'le', 'purpl'])\n",
    "print(ways)\n",
    "print(f\"There are {len(ways)} ways to construct the target.\")"
   ]
  },
  {
   "cell_type": "code",
   "execution_count": null,
   "id": "54ad2f10",
   "metadata": {},
   "outputs": [],
   "source": []
  }
 ],
 "metadata": {
  "kernelspec": {
   "display_name": "Python 3 (ipykernel)",
   "language": "python",
   "name": "python3"
  },
  "language_info": {
   "codemirror_mode": {
    "name": "ipython",
    "version": 3
   },
   "file_extension": ".py",
   "mimetype": "text/x-python",
   "name": "python",
   "nbconvert_exporter": "python",
   "pygments_lexer": "ipython3",
   "version": "3.9.7"
  }
 },
 "nbformat": 4,
 "nbformat_minor": 5
}
